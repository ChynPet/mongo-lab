{
 "cells": [
  {
   "cell_type": "code",
   "execution_count": 1,
   "metadata": {},
   "outputs": [],
   "source": [
    "import pymongo"
   ]
  },
  {
   "cell_type": "code",
   "execution_count": 2,
   "metadata": {},
   "outputs": [],
   "source": [
    "import string\n",
    "import random"
   ]
  },
  {
   "cell_type": "code",
   "execution_count": 3,
   "metadata": {},
   "outputs": [],
   "source": [
    "url = \"mongodb://10.1.0.32:27020\""
   ]
  },
  {
   "cell_type": "code",
   "execution_count": 4,
   "metadata": {},
   "outputs": [],
   "source": [
    "client = pymongo.MongoClient(url)"
   ]
  },
  {
   "cell_type": "code",
   "execution_count": 5,
   "metadata": {},
   "outputs": [],
   "source": [
    "def create_users(database, n_client=200):\n",
    "    client = database['Client']\n",
    "    items = client.find()\n",
    "    id_start = 0\n",
    "    \n",
    "    if client.count_documents({}) != 0:\n",
    "        id_start = items.sort([(\"id\", pymongo.DESCENDING)])[0]['id'] + 1\n",
    "    package = []\n",
    "    \n",
    "    for i in range(n_client):\n",
    "        firstName = ''.join(random.choices(string.ascii_letters + string.digits, k=random.randint(5,25)))\n",
    "        lastName = ''.join(random.choices(string.ascii_letters + string.digits, k=random.randint(5,25)))\n",
    "        item = {\"id\": id_start, \n",
    "                \"firstName\": firstName, \n",
    "                \"lastName\": lastName}\n",
    "        package.append(item)\n",
    "        id_start += 1\n",
    "        \n",
    "    client.insert_many(package)"
   ]
  },
  {
   "cell_type": "code",
   "execution_count": 6,
   "metadata": {},
   "outputs": [],
   "source": [
    "def create_drivers(database, n_client=200):\n",
    "    driver = database['Driver']\n",
    "    items = client.find()\n",
    "    id_start = 0\n",
    "    \n",
    "    if driver.count_documents({}) != 0:\n",
    "        id_start = items.sort([(\"id\", pymongo.DESCENDING)])[0]['id'] + 1\n",
    "    package = []\n",
    "    \n",
    "    for i in range(n_client):\n",
    "        firstName = ''.join(random.choices(string.ascii_letters + string.digits, k=random.randint(5,25)))\n",
    "        lastName = ''.join(random.choices(string.ascii_letters + string.digits, k=random.randint(5,25)))\n",
    "        car = ''.join(random.choices(string.ascii_letters + string.digits, k=random.randint(5,25)))\n",
    "        item = {\"id\": id_start, \n",
    "                \"firstName\": firstName, \n",
    "                \"lastName\": lastName, \n",
    "                \"car\": car, \n",
    "                \"raiting\": None}\n",
    "        package.append(item)\n",
    "        id_start += 1\n",
    "        \n",
    "    driver.insert_many(package)"
   ]
  },
  {
   "cell_type": "code",
   "execution_count": 7,
   "metadata": {},
   "outputs": [],
   "source": [
    "def get_drivers_id(taxi):\n",
    "    drivers = taxi['Driver']\n",
    "    items_drivers = drivers.find()\n",
    "    return [i['id'] for i in items_drivers]"
   ]
  },
  {
   "cell_type": "code",
   "execution_count": 8,
   "metadata": {},
   "outputs": [],
   "source": [
    "def get_clients_id(taxi):\n",
    "    clients = taxi['Client']\n",
    "    items_clients = clients.find()\n",
    "    return [i['id'] for i in items_clients]"
   ]
  },
  {
   "cell_type": "code",
   "execution_count": 9,
   "metadata": {},
   "outputs": [],
   "source": [
    "def create_orders(taxi, london_address, n_count=50):\n",
    "    orders = taxi['Orders']\n",
    "    items_orders = orders.find()\n",
    "    ids_clients = get_clients_id(taxi)\n",
    "    ids_drivers = get_driver_id(taxi)\n",
    "    post_code = london_address['PostCode']\n",
    "    items_post_code = post_code.find()\n",
    "    grids = [{'oseast1m': i['oseast1m'],'osnrth1m': i['osnrth1m']} for i in items_post_code]\n",
    "    \n",
    "    id_start = 0\n",
    "    \n",
    "    if orders.count_documents({}) != 0:\n",
    "        id_start = items_orders.sort([(\"id\", pymongo.DESCENDING)])[0]['id'] + 1\n",
    "    package = []\n",
    "    \n",
    "    for i in range(n_count):\n",
    "            \n",
    "        client_id = random.choice(ids_clients)\n",
    "        driver_id = random.choice(ids_drivers)\n",
    "        ids_clients.remove(client_id)\n",
    "        ids_drivers.remove(driver_id)\n",
    "        price = random.randint(0, 1500)\n",
    "        start = random.choice(grids)\n",
    "        end = random.choice(grids)\n",
    "        \n",
    "        while end['oseast1m'] == start['oseast1m'] and end['osnrth1m'] == start['osnrth1m']:\n",
    "            end = random.choice(grids)\n",
    "            \n",
    "        item = {\"id\": id_start, \n",
    "                \"start\": start, \n",
    "                \"end\": end, \n",
    "                \"clientId\": client_id, \n",
    "                \"driverId\": driver_id, \n",
    "                \"price\": price, \n",
    "                \"closed\": False}\n",
    "\n",
    "        package.append(item)\n",
    "        id_start += 1\n",
    "        \n",
    "    orders.insert_many(package)"
   ]
  },
  {
   "cell_type": "code",
   "execution_count": 10,
   "metadata": {},
   "outputs": [],
   "source": [
    "def simulate_movement(taxi, london_address, n_count_order=1, n_count_worde = 100):\n",
    "    movement = taxi['Movement']\n",
    "    items_movement = movement.find()\n",
    "    \n",
    "    orders = taxi['Orders']\n",
    "    items_orders = orders.find({\"closed\": False})\n",
    "    ids_drivers_booked = [i['driverId'] for i in items_orders]\n",
    "    \n",
    "    ids_drivers_go = []\n",
    "    n = n_count_order if len(ids_drivers_booked) > n_count_order else len(ids_driver_booked)\n",
    "    tmp = ids_drivers_booked.copy()\n",
    "    for i in range(n):\n",
    "        id_dbd = random.choice(tmp)\n",
    "        ids_drivers_go.append(id_dbd)\n",
    "        tmp.remove(id_dbd)\n",
    "    \n",
    " \n",
    "    post_code = london_address['PostCode']\n",
    "    items_post_code = post_code.find()\n",
    "    grids = [{'oseast1m': i['oseast1m'],'osnrth1m': i['osnrth1m']} for i in items_post_code]\n",
    "\n",
    "    ids_drivers = get_drivers_id(taxi)\n",
    "    id_driver = random.choice(ids_drivers)\n",
    "    \n",
    "    id_start = 0\n",
    "    \n",
    "    if  movement.count_documents({}) != 0:\n",
    "        id_start = items_movement.sort([(\"id\", pymongo.DESCENDING)])[0]['id'] + 1\n",
    "        \n",
    "   \n",
    "    if not(id_driver in ids_drivers_booked):\n",
    "        for i in range(n_count_worde):\n",
    "            position = random.choice(grids)\n",
    "            item = {\"id\": id_start, \n",
    "                    \"driverId\": id_driver,\n",
    "                    \"position\": position,\n",
    "                    \"booked\": False}\n",
    "            movement.insert_one(item)\n",
    "            id_start += 1\n",
    "\n",
    "    res = []\n",
    "    for i in ids_drivers_go:\n",
    "        tmp_grids = grids.copy()\n",
    "        item_orders = orders.find({\"driverId\": i, \"closed\": False})[0]\n",
    "        print(item_orders)\n",
    "        position = random.choice(tmp_grids)\n",
    "        item_m = {'id': id_start,\n",
    "                  'driverId': i,\n",
    "                  'position': position,\n",
    "                  'booked': True}\n",
    "        movement.insert_one(item_m)\n",
    "        id_start += 1\n",
    "        item_m['id'] = id_start\n",
    "        item_m.pop('_id', None)\n",
    "        print(item_m)\n",
    "        movement.insert_one(item_m)\n",
    "        while item_orders['end'] != position:\n",
    "            tmp_grids.remove(position)\n",
    "            position = random.choice(tmp_grids)\n",
    "            item_m = {'id': id_start,\n",
    "                      'driverId': i,\n",
    "                      'position': position,\n",
    "                      'booked': True}\n",
    "#             movement.update_one({'id': id_start}, {'$set': {'position': position}})\n",
    "        movement.update_one({'id': id_start}, {'$set': {'position': position}})\n",
    "        id_start += 1\n",
    "        item_m['id'] = id_start\n",
    "        item_m['booked'] = False\n",
    "        movement.insert_one(item_m)\n",
    "        \n",
    "        item_orders['closed'] = True\n",
    "        orders.update_one({'id': item_orders['id']}, {'$set': {'closed': True}})\n",
    "        res.append(item_orders.copy())\n",
    "    return res"
   ]
  },
  {
   "cell_type": "code",
   "execution_count": 250,
   "metadata": {},
   "outputs": [
    {
     "name": "stdout",
     "output_type": "stream",
     "text": [
      "{'_id': ObjectId('61b3e07c3de7cee630a743ca'), 'id': 85, 'start': {'oseast1m': 532038, 'osnrth1m': 190245}, 'end': {'oseast1m': 531300, 'osnrth1m': 180900}, 'clientId': 47, 'driverId': 122, 'price': 762, 'closed': False}\n",
      "{'id': 122, 'driverId': 122, 'position': {'oseast1m': 533065, 'osnrth1m': 181488}, 'booked': True}\n"
     ]
    }
   ],
   "source": [
    "order = simulate_movement(client['Taxi'], client['LondonAddress'], n_count_worde=0)"
   ]
  },
  {
   "cell_type": "code",
   "execution_count": 11,
   "metadata": {},
   "outputs": [],
   "source": [
    "def create_feedback(taxi, order):\n",
    "    feedback = taxi['Feedback']\n",
    "    items_feedback = feedback.find()\n",
    "    raiting = random.randint(1,6)\n",
    "    message = ''.join(random.choices(string.ascii_letters + string.digits, k=random.randint(5,25)))\n",
    "    id_start = 0\n",
    "    \n",
    "    if  feedback.count_documents({}) != 0:\n",
    "        id_start = items_feedback.sort([(\"id\", pymongo.DESCENDING)])[0]['id'] + 1\n",
    "        \n",
    "    item = {'id': id_start,\n",
    "            'driverId': order['driverId'],\n",
    "            'orderId': order['id'],\n",
    "            'clientId': order['clientId'],\n",
    "            'message': message,\n",
    "            'raiting': raiting }\n",
    "    feedback.insert_one(item)\n",
    "    items_feedback_driver = feedback.find({'driverId': order['driverId']})\n",
    "    avarega_raiting = 0\n",
    "    n = 0\n",
    "    for i in items_feedback_driver:\n",
    "        avarega_raiting += i['raiting']\n",
    "        n += 1\n",
    "        \n",
    "    avarega_raiting = round(avarega_raiting / n, 2)\n",
    "    \n",
    "    return avarega_raiting"
   ]
  },
  {
   "cell_type": "code",
   "execution_count": 267,
   "metadata": {},
   "outputs": [],
   "source": [
    "new_rainting = create_feedback(client['Taxi'], order[0])"
   ]
  },
  {
   "cell_type": "code",
   "execution_count": 273,
   "metadata": {},
   "outputs": [
    {
     "data": {
      "text/plain": [
       "<pymongo.results.UpdateResult at 0x7f8fdcdb9200>"
      ]
     },
     "execution_count": 273,
     "metadata": {},
     "output_type": "execute_result"
    }
   ],
   "source": [
    "drivers = client['Taxi']['Driver']\n",
    "drivers.update_one({'id': order[0]['driverId']}, {'$set': {'raiting': new_rainting}})"
   ]
  },
  {
   "cell_type": "code",
   "execution_count": 284,
   "metadata": {},
   "outputs": [],
   "source": [
    "items = drivers.find({\"raiting\": {'$ne': None}})"
   ]
  },
  {
   "cell_type": "code",
   "execution_count": 285,
   "metadata": {},
   "outputs": [],
   "source": [
    "items_sort = items.sort([(\"raiting\", pymongo.DESCENDING)]).limit(100)"
   ]
  },
  {
   "cell_type": "code",
   "execution_count": 287,
   "metadata": {},
   "outputs": [
    {
     "name": "stdout",
     "output_type": "stream",
     "text": [
      "id: 120, raiting: 4\n",
      "id: 83, raiting: 3.83\n",
      "id: 122, raiting: 3.2\n",
      "id: 85, raiting: 3\n"
     ]
    }
   ],
   "source": [
    "for i in items_sort:\n",
    "    driver = i['id']\n",
    "    raiting = i['raiting']\n",
    "    print(f'id: {driver}, raiting: {raiting}')"
   ]
  },
  {
   "cell_type": "code",
   "execution_count": null,
   "metadata": {},
   "outputs": [],
   "source": []
  }
 ],
 "metadata": {
  "kernelspec": {
   "display_name": "Python 3",
   "language": "python",
   "name": "python3"
  },
  "language_info": {
   "codemirror_mode": {
    "name": "ipython",
    "version": 3
   },
   "file_extension": ".py",
   "mimetype": "text/x-python",
   "name": "python",
   "nbconvert_exporter": "python",
   "pygments_lexer": "ipython3",
   "version": "3.10.0"
  }
 },
 "nbformat": 4,
 "nbformat_minor": 4
}
